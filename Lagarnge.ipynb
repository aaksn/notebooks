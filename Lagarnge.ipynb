{
 "cells": [
  {
   "cell_type": "markdown",
   "metadata": {},
   "source": [
    "# Интерполяционный многочлен в форме Лагранжа"
   ]
  },
  {
   "cell_type": "markdown",
   "metadata": {},
   "source": [
    "## Общие сведения"
   ]
  },
  {
   "cell_type": "markdown",
   "metadata": {},
   "source": [
    "Интерполяционный многочлен Лагранжа — многочлен минимальной степени, принимающий данные значения в данном наборе точек. Для $n+1$ пар чисел $(x_0, y_0), (x_1, y_1),\\dots, (x_n, y_n)$, где все $x_j$ различны, существует единственный многочлен $L(x)$ степени не более n, для которого $L(x_j) = y_j$.\n",
    "\n",
    "В простейшем случае (n=1) — это линейный многочлен, график которого — прямая, проходящая через две заданные точки."
   ]
  },
  {
   "cell_type": "markdown",
   "metadata": {},
   "source": [
    "## Способ вычисления многочлена Лагранжа  \n",
    "Для вычисления многочлена используется следующая формула: $$ L(x)=\\sum_{i=0}^{n} y_i l_i(x) $$, где $$ {l_{i}(x)=\\prod _{j=0,j\\neq i}^{n}{\\frac {x-x_{j}}{x_{i}-x_{j}}}={\\frac {x-x_{0}}{x_{i}-x_{0}}}\\cdots {\\frac {x-x_{i-1}}{x_{i}-x_{i-1}}}\\cdot {\\frac {x-x_{i+1}}{x_{i}-x_{i+1}}}\\cdots {\\frac {x-x_{n}}{x_{i}-x_{n}}}} $$"
   ]
  },
  {
   "cell_type": "markdown",
   "metadata": {},
   "source": [
    "## Пример\n",
    "Многочлены Лагранжа степеней от нулевой до пятой для функции  $\\cos(5\\pi x)$  \n",
    "![Example](https://upload.wikimedia.org/wikipedia/commons/2/2c/Lagrange_polynomials_of_increasing_degrees.gif \"Text\")"
   ]
  },
  {
   "cell_type": "markdown",
   "metadata": {},
   "source": [
    "## Решение задачи\n"
   ]
  },
  {
   "cell_type": "markdown",
   "metadata": {},
   "source": [
    "Для начала подключим необходимы библиотеки"
   ]
  },
  {
   "cell_type": "code",
   "execution_count": 1,
   "metadata": {},
   "outputs": [
    {
     "name": "stdout",
     "output_type": "stream",
     "text": [
      "Using matplotlib backend: TkAgg\n"
     ]
    }
   ],
   "source": [
    "import numpy as np # библиотека для хранения массивов\n",
    "from sympy import *\n",
    "import matplotlib.pyplot as plt # библиотека для построения графиков\n",
    "%matplotlib"
   ]
  },
  {
   "cell_type": "markdown",
   "metadata": {},
   "source": [
    "Далее объявляем функцию для организации вычислений по формуле интерполяционного многочлена Лагранжа"
   ]
  },
  {
   "cell_type": "code",
   "execution_count": 2,
   "metadata": {},
   "outputs": [],
   "source": [
    "def lgrn(x, y, e):\n",
    "    pol = 0 # Переменная для накопления значения полинома\n",
    "    for j in range(len(y)):\n",
    "        p1 = 1\n",
    "        p2 = 1\n",
    "        for i in range(len(x)):\n",
    "            if i == j:\n",
    "                p1 *= 1\n",
    "                p2 *= 1\n",
    "            else:\n",
    "                p1 *= e - x[i]\n",
    "                p2 *= x[j] - x[i]\n",
    "        pol += y[j] * p1 / p2\n",
    "    return pol"
   ]
  },
  {
   "cell_type": "markdown",
   "metadata": {},
   "source": [
    "Задаём значения нашей функции"
   ]
  },
  {
   "cell_type": "code",
   "execution_count": 3,
   "metadata": {},
   "outputs": [],
   "source": [
    "#x = np.linspace(-3, 3, 21)\n",
    "#y = x**3\n",
    "x = np.linspace(-10,3, 21)\n",
    "y = np.exp(x)"
   ]
  },
  {
   "cell_type": "markdown",
   "metadata": {},
   "source": [
    "Задаём степень полинома и получаем значения в узлах"
   ]
  },
  {
   "cell_type": "code",
   "execution_count": 4,
   "metadata": {},
   "outputs": [],
   "source": [
    "d = 3 # Степень полинома\n",
    "xnodes = x[::int((len(x) - 1) / d)]\n",
    "ynodes = y[::int((len(y) - 1) / d)]"
   ]
  },
  {
   "cell_type": "markdown",
   "metadata": {},
   "source": [
    "Вычисляем полином"
   ]
  },
  {
   "cell_type": "code",
   "execution_count": 5,
   "metadata": {},
   "outputs": [
    {
     "data": {
      "text/latex": [
       "$\\displaystyle 0.0144647895836323 x^{3} + 0.268202126134354 x^{2} + 1.45155174067076 x + 2.16013977683425$"
      ],
      "text/plain": [
       "0.0144647895836323*x**3 + 0.268202126134354*x**2 + 1.45155174067076*x + 2.16013977683425"
      ]
     },
     "execution_count": 5,
     "metadata": {},
     "output_type": "execute_result"
    }
   ],
   "source": [
    "e = Symbol('x')\n",
    "f = lgrn(xnodes, ynodes, e).expand()\n",
    "f"
   ]
  },
  {
   "cell_type": "markdown",
   "metadata": {},
   "source": [
    "Получаем значения функции для нашего полинома"
   ]
  },
  {
   "cell_type": "code",
   "execution_count": 8,
   "metadata": {},
   "outputs": [],
   "source": [
    "ynew = [f.subs(e, i) for i in x]"
   ]
  },
  {
   "cell_type": "markdown",
   "metadata": {},
   "source": [
    "Строим график"
   ]
  },
  {
   "cell_type": "code",
   "execution_count": 7,
   "metadata": {},
   "outputs": [
    {
     "data": {
      "image/png": "[encoded data removed]",
      "text/plain": [
       "<Figure size 432x288 with 1 Axes>"
      ]
     },
     "metadata": {
      "needs_background": "light"
     },
     "output_type": "display_data"
    }
   ],
   "source": [
    "plt.plot(x, ynew, color='blue', label='Ф-ция от полинома Лагранжа')\n",
    "plt.plot(x, y, color='red', label='Оригинальная функция', linestyle='--')\n",
    "plt.plot(xnodes, ynodes, color='green', label='Узлы', marker='o', linestyle='')\n",
    "#mlines.Line2D(xnodes, ynodes)\n",
    "\n",
    "plt.grid()\n",
    "plt.legend(loc='best')\n",
    "\n",
    "plt.xlabel('x')\n",
    "plt.ylabel('y')\n",
    "\n",
    "plt.ylim(min(y) - 1, max(y) + 1)\n",
    "plt.xlim(min(x) - 5, max(x) + 5)\n",
    "\n",
    "plt.title(r'График функции');"
   ]
  }
 ],
 "metadata": {
  "kernelspec": {
   "display_name": "Python 3",
   "language": "python",
   "name": "python3"
  },
  "language_info": {
   "codemirror_mode": {
    "name": "ipython",
    "version": 3
   },
   "file_extension": ".py",
   "mimetype": "text/x-python",
   "name": "python",
   "nbconvert_exporter": "python",
   "pygments_lexer": "ipython3",
   "version": "3.7.3"
  }
 },
 "nbformat": 4,
 "nbformat_minor": 2
}
